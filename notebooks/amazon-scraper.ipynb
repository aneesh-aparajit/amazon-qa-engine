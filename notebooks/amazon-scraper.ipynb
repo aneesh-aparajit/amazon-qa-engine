{
 "cells": [
  {
   "cell_type": "code",
   "execution_count": 1,
   "id": "fcf9c3df",
   "metadata": {},
   "outputs": [],
   "source": [
    "import pandas as pd\n",
    "import requests\n",
    "from bs4 import BeautifulSoup"
   ]
  },
  {
   "cell_type": "code",
   "execution_count": 2,
   "id": "58a5854d",
   "metadata": {},
   "outputs": [],
   "source": [
    "product_url = 'https://www.amazon.in/Airdopes-141-Playtime-Resistance-Bluetooth/dp/B09N3ZNHTY/'"
   ]
  },
  {
   "cell_type": "code",
   "execution_count": 3,
   "id": "4fa7a157",
   "metadata": {},
   "outputs": [],
   "source": [
    "import pandas as pd\n",
    "import requests\n",
    "from bs4 import BeautifulSoup\n",
    "\n",
    "HEADERS = {\n",
    "    \"User-Agent\": \"Mozilla/5.0 (Macintosh; Intel Mac OSX 10_14_3) AppleWebKit/537.36 (KHTML, like Gecko)Chrome/71.0.3578.98 Safari/537.36\", \n",
    "    \"Accept\": \"text/html,application/xhtml+xml,application/xml;q=0.9,image/webp,image/apng,*/*;q=0.8\"\n",
    "}\n",
    "\n",
    "\n",
    "def get_response(url: str) -> BeautifulSoup:\n",
    "    '''A function to return a BeautifulSoup object\n",
    "    '''\n",
    "    res = requests.get(product_url, headers=HEADERS)\n",
    "    return BeautifulSoup(res.content, 'html.parser')\n",
    "\n",
    "\n",
    "def collect_data(soup: BeautifulSoup) -> pd.DataFrame():\n",
    "    # collect title\n",
    "    title = soup.select('#productTitle')[0].text.strip()\n",
    "\n",
    "    # Collect specifications\n",
    "    eles = soup.select('#feature-bullets li span')\n",
    "    info = [ele.text.strip() for ele in eles]\n",
    "\n",
    "    keys_raw = soup.select('#prodDetails > div > div:nth-child(1) > div:nth-child(1) > div')[0].select('th')\n",
    "    keys = [key.text.strip() for key in keys_raw]\n",
    "\n",
    "    values_raw = soup.select('#prodDetails > div > div:nth-child(1) > div:nth-child(1) > div')[0].select('td')\n",
    "    values = [values.text.strip() for values in values_raw]\n",
    "\n",
    "    other_keys = [x.text.strip() for x in soup.select('#productDetails_db_sections')[0].select('th')]\n",
    "    other_values = [x.text.strip() for x in soup.select('#productDetails_db_sections')[0].select('td')]\n",
    "\n",
    "    keys.extend(other_keys)\n",
    "    values.extend(other_values)\n",
    "\n",
    "    # Current Price\n",
    "    price = soup.select('#corePriceDisplay_desktop_feature_div > div.a-section.a-spacing-none.aok-align-center > span.a-price.aok-align-center.reinventPricePriceToPayMargin.priceToPay > span:nth-child(2) > span.a-price-whole')[0].text\n",
    "\n",
    "\n",
    "    reviews_url = 'https://amazon.in' + soup.select('#reviews-medley-footer > div.a-row.a-spacing-medium > a')[0]['href']\n",
    "\n",
    "\n",
    "    keys = ['product name', 'info', 'current price', 'reviews'] + keys\n",
    "    values= [title, '\\n'.join(info), price, reviews_url] + values\n",
    "\n",
    "    info_df = pd.DataFrame({\n",
    "        'keys': keys,\n",
    "        'values': values\n",
    "    })\n",
    "\n",
    "    return info_df"
   ]
  },
  {
   "cell_type": "code",
   "execution_count": 4,
   "id": "24eab6a9",
   "metadata": {},
   "outputs": [],
   "source": [
    "my_headers = {\"User-Agent\":\"Mozilla/5.0 (Macintosh; Intel Mac OSX 10_14_3) AppleWebKit/537.36 (KHTML, like Gecko)Chrome/71.0.3578.98 Safari/537.36\", \n",
    "          \"Accept\":\"text/html,application/xhtml+xml,application/xml;q=0.9,image/webp,image/apng,*/*;q=0.8\"}"
   ]
  },
  {
   "cell_type": "code",
   "execution_count": 5,
   "id": "718611fe",
   "metadata": {},
   "outputs": [
    {
     "data": {
      "text/plain": [
       "<Response [200]>"
      ]
     },
     "execution_count": 5,
     "metadata": {},
     "output_type": "execute_result"
    }
   ],
   "source": [
    "res = requests.get(product_url, headers=my_headers)\n",
    "res"
   ]
  },
  {
   "cell_type": "code",
   "execution_count": 6,
   "id": "fa150a78",
   "metadata": {},
   "outputs": [],
   "source": [
    "soup = get_response(product_url)"
   ]
  },
  {
   "cell_type": "code",
   "execution_count": 7,
   "id": "b51b5421",
   "metadata": {},
   "outputs": [
    {
     "data": {
      "text/html": [
       "<div>\n",
       "<style scoped>\n",
       "    .dataframe tbody tr th:only-of-type {\n",
       "        vertical-align: middle;\n",
       "    }\n",
       "\n",
       "    .dataframe tbody tr th {\n",
       "        vertical-align: top;\n",
       "    }\n",
       "\n",
       "    .dataframe thead th {\n",
       "        text-align: right;\n",
       "    }\n",
       "</style>\n",
       "<table border=\"1\" class=\"dataframe\">\n",
       "  <thead>\n",
       "    <tr style=\"text-align: right;\">\n",
       "      <th></th>\n",
       "      <th>keys</th>\n",
       "      <th>values</th>\n",
       "    </tr>\n",
       "  </thead>\n",
       "  <tbody>\n",
       "    <tr>\n",
       "      <th>0</th>\n",
       "      <td>product name</td>\n",
       "      <td>boAt Airdopes 141 Bluetooth Truly Wireless in ...</td>\n",
       "    </tr>\n",
       "    <tr>\n",
       "      <th>1</th>\n",
       "      <td>info</td>\n",
       "      <td>Playback- Enjoy an extended break on weekends ...</td>\n",
       "    </tr>\n",
       "    <tr>\n",
       "      <th>2</th>\n",
       "      <td>current price</td>\n",
       "      <td>1,499</td>\n",
       "    </tr>\n",
       "    <tr>\n",
       "      <th>3</th>\n",
       "      <td>reviews</td>\n",
       "      <td>https://amazon.in/Airdopes-141-Playtime-Resist...</td>\n",
       "    </tr>\n",
       "    <tr>\n",
       "      <th>4</th>\n",
       "      <td>Brand</td>\n",
       "      <td>‎BoAt</td>\n",
       "    </tr>\n",
       "    <tr>\n",
       "      <th>5</th>\n",
       "      <td>Manufacturer</td>\n",
       "      <td>‎Imagine Marketing Ltd, info@imaginemarketingi...</td>\n",
       "    </tr>\n",
       "    <tr>\n",
       "      <th>6</th>\n",
       "      <td>Model</td>\n",
       "      <td>‎Airdopes 141</td>\n",
       "    </tr>\n",
       "    <tr>\n",
       "      <th>7</th>\n",
       "      <td>Model Name</td>\n",
       "      <td>‎Airdopes 141</td>\n",
       "    </tr>\n",
       "    <tr>\n",
       "      <th>8</th>\n",
       "      <td>Product Dimensions</td>\n",
       "      <td>‎5 x 5 x 2 cm; 60 Grams</td>\n",
       "    </tr>\n",
       "    <tr>\n",
       "      <th>9</th>\n",
       "      <td>Batteries</td>\n",
       "      <td>‎3 Lithium Ion batteries required. (included)</td>\n",
       "    </tr>\n",
       "    <tr>\n",
       "      <th>10</th>\n",
       "      <td>Item model number</td>\n",
       "      <td>‎Airdopes 141</td>\n",
       "    </tr>\n",
       "    <tr>\n",
       "      <th>11</th>\n",
       "      <td>Compatible Devices</td>\n",
       "      <td>‎Bluetooth Devices</td>\n",
       "    </tr>\n",
       "    <tr>\n",
       "      <th>12</th>\n",
       "      <td>Special Features</td>\n",
       "      <td>‎Sweatproof, Microphone Included, One Touch Vo...</td>\n",
       "    </tr>\n",
       "    <tr>\n",
       "      <th>13</th>\n",
       "      <td>Mounting Hardware</td>\n",
       "      <td>‎Airdopes 141, Additional Earbuds, Charging Ca...</td>\n",
       "    </tr>\n",
       "    <tr>\n",
       "      <th>14</th>\n",
       "      <td>Number Of Items</td>\n",
       "      <td>‎5</td>\n",
       "    </tr>\n",
       "    <tr>\n",
       "      <th>15</th>\n",
       "      <td>Microphone Form Factor</td>\n",
       "      <td>‎Built-In</td>\n",
       "    </tr>\n",
       "    <tr>\n",
       "      <th>16</th>\n",
       "      <td>Headphones Form Factor</td>\n",
       "      <td>‎In Ear</td>\n",
       "    </tr>\n",
       "    <tr>\n",
       "      <th>17</th>\n",
       "      <td>Batteries Included</td>\n",
       "      <td>‎Yes</td>\n",
       "    </tr>\n",
       "    <tr>\n",
       "      <th>18</th>\n",
       "      <td>Batteries Required</td>\n",
       "      <td>‎Yes</td>\n",
       "    </tr>\n",
       "    <tr>\n",
       "      <th>19</th>\n",
       "      <td>Battery Cell Composition</td>\n",
       "      <td>‎Lithium</td>\n",
       "    </tr>\n",
       "    <tr>\n",
       "      <th>20</th>\n",
       "      <td>Cable Feature</td>\n",
       "      <td>‎Without Cable</td>\n",
       "    </tr>\n",
       "    <tr>\n",
       "      <th>21</th>\n",
       "      <td>Connector Type</td>\n",
       "      <td>‎Bluetooth 5.1</td>\n",
       "    </tr>\n",
       "    <tr>\n",
       "      <th>22</th>\n",
       "      <td>Maximum Operating Distance</td>\n",
       "      <td>‎10 Metres</td>\n",
       "    </tr>\n",
       "    <tr>\n",
       "      <th>23</th>\n",
       "      <td>Form Factor</td>\n",
       "      <td>‎In_ear</td>\n",
       "    </tr>\n",
       "    <tr>\n",
       "      <th>24</th>\n",
       "      <td>Contains Liquid Contents</td>\n",
       "      <td>‎No</td>\n",
       "    </tr>\n",
       "    <tr>\n",
       "      <th>25</th>\n",
       "      <td>Includes Rechargable Battery</td>\n",
       "      <td>‎Yes</td>\n",
       "    </tr>\n",
       "    <tr>\n",
       "      <th>26</th>\n",
       "      <td>Manufacturer</td>\n",
       "      <td>‎Imagine Marketing Ltd</td>\n",
       "    </tr>\n",
       "    <tr>\n",
       "      <th>27</th>\n",
       "      <td>Country of Origin</td>\n",
       "      <td>‎China</td>\n",
       "    </tr>\n",
       "    <tr>\n",
       "      <th>28</th>\n",
       "      <td>Imported By</td>\n",
       "      <td>‎Imagine Marketing Ltd</td>\n",
       "    </tr>\n",
       "    <tr>\n",
       "      <th>29</th>\n",
       "      <td>Item Weight</td>\n",
       "      <td>‎60 g</td>\n",
       "    </tr>\n",
       "    <tr>\n",
       "      <th>30</th>\n",
       "      <td>ASIN</td>\n",
       "      <td>B09N3ZNHTY</td>\n",
       "    </tr>\n",
       "    <tr>\n",
       "      <th>31</th>\n",
       "      <td>Customer Reviews</td>\n",
       "      <td>3.9 out of 5 stars    \\n    144,164 ratings   ...</td>\n",
       "    </tr>\n",
       "    <tr>\n",
       "      <th>32</th>\n",
       "      <td>Best Sellers Rank</td>\n",
       "      <td>#11 in Electronics (See Top 100 in Electronics...</td>\n",
       "    </tr>\n",
       "    <tr>\n",
       "      <th>33</th>\n",
       "      <td>Date First Available</td>\n",
       "      <td>6 December 2021</td>\n",
       "    </tr>\n",
       "    <tr>\n",
       "      <th>34</th>\n",
       "      <td>Packer</td>\n",
       "      <td>Imagine Marketing Ltd</td>\n",
       "    </tr>\n",
       "    <tr>\n",
       "      <th>35</th>\n",
       "      <td>Importer</td>\n",
       "      <td>Imagine Marketing Ltd</td>\n",
       "    </tr>\n",
       "    <tr>\n",
       "      <th>36</th>\n",
       "      <td>Item Dimensions LxWxH</td>\n",
       "      <td>50 x 50 x 20 Millimeters</td>\n",
       "    </tr>\n",
       "    <tr>\n",
       "      <th>37</th>\n",
       "      <td>Net Quantity</td>\n",
       "      <td>1 count</td>\n",
       "    </tr>\n",
       "    <tr>\n",
       "      <th>38</th>\n",
       "      <td>Generic Name</td>\n",
       "      <td>Airdopes 141</td>\n",
       "    </tr>\n",
       "  </tbody>\n",
       "</table>\n",
       "</div>"
      ],
      "text/plain": [
       "                            keys  \\\n",
       "0                   product name   \n",
       "1                           info   \n",
       "2                  current price   \n",
       "3                        reviews   \n",
       "4                          Brand   \n",
       "5                   Manufacturer   \n",
       "6                          Model   \n",
       "7                     Model Name   \n",
       "8             Product Dimensions   \n",
       "9                      Batteries   \n",
       "10             Item model number   \n",
       "11            Compatible Devices   \n",
       "12              Special Features   \n",
       "13             Mounting Hardware   \n",
       "14               Number Of Items   \n",
       "15        Microphone Form Factor   \n",
       "16        Headphones Form Factor   \n",
       "17            Batteries Included   \n",
       "18            Batteries Required   \n",
       "19      Battery Cell Composition   \n",
       "20                 Cable Feature   \n",
       "21                Connector Type   \n",
       "22    Maximum Operating Distance   \n",
       "23                   Form Factor   \n",
       "24      Contains Liquid Contents   \n",
       "25  Includes Rechargable Battery   \n",
       "26                  Manufacturer   \n",
       "27             Country of Origin   \n",
       "28                   Imported By   \n",
       "29                   Item Weight   \n",
       "30                          ASIN   \n",
       "31              Customer Reviews   \n",
       "32             Best Sellers Rank   \n",
       "33          Date First Available   \n",
       "34                        Packer   \n",
       "35                      Importer   \n",
       "36         Item Dimensions LxWxH   \n",
       "37                  Net Quantity   \n",
       "38                  Generic Name   \n",
       "\n",
       "                                               values  \n",
       "0   boAt Airdopes 141 Bluetooth Truly Wireless in ...  \n",
       "1   Playback- Enjoy an extended break on weekends ...  \n",
       "2                                               1,499  \n",
       "3   https://amazon.in/Airdopes-141-Playtime-Resist...  \n",
       "4                                               ‎BoAt  \n",
       "5   ‎Imagine Marketing Ltd, info@imaginemarketingi...  \n",
       "6                                       ‎Airdopes 141  \n",
       "7                                       ‎Airdopes 141  \n",
       "8                             ‎5 x 5 x 2 cm; 60 Grams  \n",
       "9       ‎3 Lithium Ion batteries required. (included)  \n",
       "10                                      ‎Airdopes 141  \n",
       "11                                 ‎Bluetooth Devices  \n",
       "12  ‎Sweatproof, Microphone Included, One Touch Vo...  \n",
       "13  ‎Airdopes 141, Additional Earbuds, Charging Ca...  \n",
       "14                                                 ‎5  \n",
       "15                                          ‎Built-In  \n",
       "16                                            ‎In Ear  \n",
       "17                                               ‎Yes  \n",
       "18                                               ‎Yes  \n",
       "19                                           ‎Lithium  \n",
       "20                                     ‎Without Cable  \n",
       "21                                     ‎Bluetooth 5.1  \n",
       "22                                         ‎10 Metres  \n",
       "23                                            ‎In_ear  \n",
       "24                                                ‎No  \n",
       "25                                               ‎Yes  \n",
       "26                             ‎Imagine Marketing Ltd  \n",
       "27                                             ‎China  \n",
       "28                             ‎Imagine Marketing Ltd  \n",
       "29                                              ‎60 g  \n",
       "30                                         B09N3ZNHTY  \n",
       "31  3.9 out of 5 stars    \\n    144,164 ratings   ...  \n",
       "32  #11 in Electronics (See Top 100 in Electronics...  \n",
       "33                                    6 December 2021  \n",
       "34                              Imagine Marketing Ltd  \n",
       "35                              Imagine Marketing Ltd  \n",
       "36                           50 x 50 x 20 Millimeters  \n",
       "37                                            1 count  \n",
       "38                                       Airdopes 141  "
      ]
     },
     "execution_count": 7,
     "metadata": {},
     "output_type": "execute_result"
    }
   ],
   "source": [
    "df = collect_data(soup)\n",
    "df"
   ]
  },
  {
   "cell_type": "code",
   "execution_count": 8,
   "id": "b273c3ad",
   "metadata": {},
   "outputs": [
    {
     "name": "stdout",
     "output_type": "stream",
     "text": [
      "https://amazon.in/Airdopes-141-Playtime-Resistance-Bluetooth/product-reviews/B09N3ZNHTY/ref=cm_cr_dp_d_show_all_btm?ie=UTF8&reviewerType=all_reviews\n"
     ]
    }
   ],
   "source": [
    "print(df[df['keys'] == 'reviews']['values'].values[0])"
   ]
  },
  {
   "cell_type": "code",
   "execution_count": 9,
   "id": "76aac9ef",
   "metadata": {},
   "outputs": [],
   "source": [
    "#customer_review-R358NYWUQLR163"
   ]
  },
  {
   "cell_type": "code",
   "execution_count": 10,
   "id": "8165dbd2",
   "metadata": {},
   "outputs": [],
   "source": [
    "url = df[df['keys'] == 'reviews']['values'].values[0]"
   ]
  },
  {
   "cell_type": "code",
   "execution_count": 11,
   "id": "dddccafa",
   "metadata": {},
   "outputs": [
    {
     "data": {
      "text/plain": [
       "'https://amazon.in/Airdopes-141-Playtime-Resistance-Bluetooth/product-reviews/B09N3ZNHTY/ref=cm_cr_dp_d_show_all_btm?ie=UTF8&reviewerType=all_reviews'"
      ]
     },
     "execution_count": 11,
     "metadata": {},
     "output_type": "execute_result"
    }
   ],
   "source": [
    "url"
   ]
  },
  {
   "cell_type": "code",
   "execution_count": 12,
   "id": "dc66cb5f",
   "metadata": {},
   "outputs": [],
   "source": [
    "import requests\n",
    "from bs4 import BeautifulSoup\n",
    "import pandas as pd\n",
    "from urllib.parse import urlencode\n",
    "import csv"
   ]
  },
  {
   "cell_type": "code",
   "execution_count": 13,
   "id": "edd1183f",
   "metadata": {},
   "outputs": [],
   "source": [
    "urls = [\n",
    "    'https://amazon.in/Airdopes-141-Playtime-Resistance-Bluetooth/product-reviews/B09N3ZNHTY/ref=cm_cr_dp_d_show_all_btm?ie=UTF8&reviewerType=all_reviews'\n",
    "    'https://www.amazon.in/Airdopes-141-Playtime-Resistance-Bluetooth/product-reviews/B09N3ZNHTY/ref=cm_cr_getr_d_paging_btm_next_3?ie=UTF8&reviewerType=all_reviews&pageNumber=3'\n",
    "]"
   ]
  },
  {
   "cell_type": "code",
   "execution_count": 14,
   "id": "2f1cb78c",
   "metadata": {},
   "outputs": [
    {
     "name": "stderr",
     "output_type": "stream",
     "text": [
      "  1%|▍                                           | 1/99 [00:01<03:02,  1.86s/it]"
     ]
    },
    {
     "name": "stdout",
     "output_type": "stream",
     "text": [
      "10 10\n"
     ]
    },
    {
     "name": "stderr",
     "output_type": "stream",
     "text": [
      "\r",
      "  2%|▉                                           | 2/99 [00:03<02:53,  1.79s/it]"
     ]
    },
    {
     "name": "stdout",
     "output_type": "stream",
     "text": [
      "20 20\n"
     ]
    },
    {
     "name": "stderr",
     "output_type": "stream",
     "text": [
      "\r",
      "  3%|█▎                                          | 3/99 [00:05<02:49,  1.77s/it]"
     ]
    },
    {
     "name": "stdout",
     "output_type": "stream",
     "text": [
      "30 30\n"
     ]
    },
    {
     "name": "stderr",
     "output_type": "stream",
     "text": [
      "\r",
      "  4%|█▊                                          | 4/99 [00:07<02:47,  1.76s/it]"
     ]
    },
    {
     "name": "stdout",
     "output_type": "stream",
     "text": [
      "40 40\n"
     ]
    },
    {
     "name": "stderr",
     "output_type": "stream",
     "text": [
      "\r",
      "  5%|██▏                                         | 5/99 [00:08<02:45,  1.76s/it]"
     ]
    },
    {
     "name": "stdout",
     "output_type": "stream",
     "text": [
      "50 50\n"
     ]
    },
    {
     "name": "stderr",
     "output_type": "stream",
     "text": [
      "\r",
      "  6%|██▋                                         | 6/99 [00:10<02:42,  1.75s/it]"
     ]
    },
    {
     "name": "stdout",
     "output_type": "stream",
     "text": [
      "60 60\n"
     ]
    },
    {
     "name": "stderr",
     "output_type": "stream",
     "text": [
      "  6%|██▋                                         | 6/99 [00:11<03:04,  1.99s/it]\n"
     ]
    }
   ],
   "source": [
    "names = []\n",
    "reviews = []\n",
    "data_string = \"\"\n",
    "url = 'https://amazon.in/Airdopes-141-Playtime-Resistance-Bluetooth/product-reviews/B09N3ZNHTY/ref=cm_cr_dp_d_show_all_btm?ie=UTF8&reviewerType=all_reviews'\n",
    "\n",
    "from tqdm import tqdm\n",
    "\n",
    "for i in tqdm(range(1, 100)):\n",
    "    response = requests.get(url + f'?pageNumber={i}')\n",
    "    if response.status_code != 200:\n",
    "        break\n",
    "    soup = BeautifulSoup(response.text, 'html.parser')\n",
    "\n",
    "    for item in soup.findAll(\"a\", {\"data-hook\": \"review-title\"}):\n",
    "        data_string = data_string + item.get_text()\n",
    "        names.append(data_string)\n",
    "        data_string = \"\"  \n",
    "    \n",
    "    for item in soup.find_all(\"span\", {\"data-hook\": \"review-body\"}):\n",
    "        data_string = data_string + item.get_text()\n",
    "        reviews.append(data_string)\n",
    "        data_string = \"\"\n",
    "    \n",
    "    print(len(names), len(reviews))"
   ]
  },
  {
   "cell_type": "code",
   "execution_count": 15,
   "id": "fc178cb9",
   "metadata": {},
   "outputs": [
    {
     "name": "stdout",
     "output_type": "stream",
     "text": [
      "60 60\n"
     ]
    }
   ],
   "source": [
    "# Create the dictionary.\n",
    "reviews_dict = {'title': names, 'review': reviews}\n",
    "# Print the lengths of each list.  \n",
    "print(len(names), len(reviews))\n",
    "# 72 50"
   ]
  },
  {
   "cell_type": "code",
   "execution_count": 16,
   "id": "727bdbf8",
   "metadata": {},
   "outputs": [
    {
     "data": {
      "text/html": [
       "<div>\n",
       "<style scoped>\n",
       "    .dataframe tbody tr th:only-of-type {\n",
       "        vertical-align: middle;\n",
       "    }\n",
       "\n",
       "    .dataframe tbody tr th {\n",
       "        vertical-align: top;\n",
       "    }\n",
       "\n",
       "    .dataframe thead th {\n",
       "        text-align: right;\n",
       "    }\n",
       "</style>\n",
       "<table border=\"1\" class=\"dataframe\">\n",
       "  <thead>\n",
       "    <tr style=\"text-align: right;\">\n",
       "      <th></th>\n",
       "      <th>title</th>\n",
       "      <th>review</th>\n",
       "    </tr>\n",
       "  </thead>\n",
       "  <tbody>\n",
       "    <tr>\n",
       "      <th>0</th>\n",
       "      <td>\\ngreat product under low price range\\n</td>\n",
       "      <td>\\nPros:1. The level of volume it gets to, is j...</td>\n",
       "    </tr>\n",
       "    <tr>\n",
       "      <th>1</th>\n",
       "      <td>\\nBEST For music! Totally worth it Edit: Not w...</td>\n",
       "      <td>\\nPros:1. The level of volume it gets to, is j...</td>\n",
       "    </tr>\n",
       "    <tr>\n",
       "      <th>2</th>\n",
       "      <td>\\n1 year urage review\\n</td>\n",
       "      <td>\\nSimply...This the best TWS in this budget se...</td>\n",
       "    </tr>\n",
       "    <tr>\n",
       "      <th>3</th>\n",
       "      <td>\\nBeast in budget!\\n</td>\n",
       "      <td>\\nBought it in January,posting it in August. S...</td>\n",
       "    </tr>\n",
       "    <tr>\n",
       "      <th>4</th>\n",
       "      <td>\\nLove the product 👌 ❤️\\n</td>\n",
       "      <td>\\nI love the product the noise cancelation is ...</td>\n",
       "    </tr>\n",
       "  </tbody>\n",
       "</table>\n",
       "</div>"
      ],
      "text/plain": [
       "                                               title  \\\n",
       "0            \\ngreat product under low price range\\n   \n",
       "1  \\nBEST For music! Totally worth it Edit: Not w...   \n",
       "2                            \\n1 year urage review\\n   \n",
       "3                               \\nBeast in budget!\\n   \n",
       "4                          \\nLove the product 👌 ❤️\\n   \n",
       "\n",
       "                                              review  \n",
       "0  \\nPros:1. The level of volume it gets to, is j...  \n",
       "1  \\nPros:1. The level of volume it gets to, is j...  \n",
       "2  \\nSimply...This the best TWS in this budget se...  \n",
       "3  \\nBought it in January,posting it in August. S...  \n",
       "4  \\nI love the product the noise cancelation is ...  "
      ]
     },
     "execution_count": 16,
     "metadata": {},
     "output_type": "execute_result"
    }
   ],
   "source": [
    "# Create a new dataframe.\n",
    "df = pd.DataFrame.from_dict(reviews_dict)\n",
    "df.head()"
   ]
  }
 ],
 "metadata": {
  "kernelspec": {
   "display_name": "Python 3.9 (torch)",
   "language": "python",
   "name": "torch-env"
  },
  "language_info": {
   "codemirror_mode": {
    "name": "ipython",
    "version": 3
   },
   "file_extension": ".py",
   "mimetype": "text/x-python",
   "name": "python",
   "nbconvert_exporter": "python",
   "pygments_lexer": "ipython3",
   "version": "3.10.8"
  },
  "toc": {
   "base_numbering": 1,
   "nav_menu": {},
   "number_sections": true,
   "sideBar": true,
   "skip_h1_title": false,
   "title_cell": "Table of Contents",
   "title_sidebar": "Contents",
   "toc_cell": false,
   "toc_position": {},
   "toc_section_display": true,
   "toc_window_display": false
  }
 },
 "nbformat": 4,
 "nbformat_minor": 5
}
