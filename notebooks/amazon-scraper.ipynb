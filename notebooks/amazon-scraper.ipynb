{
 "cells": [
  {
   "cell_type": "code",
   "execution_count": 19,
   "id": "fcf9c3df",
   "metadata": {},
   "outputs": [],
   "source": [
    "import pandas as pd\n",
    "import requests\n",
    "from bs4 import BeautifulSoup"
   ]
  },
  {
   "cell_type": "code",
   "execution_count": 48,
   "id": "58a5854d",
   "metadata": {},
   "outputs": [],
   "source": [
    "product_url = 'https://www.amazon.in/dp/B09RMQYHLH/ref=QAHzEditorial_en_IN_1?pf_rd_r=4EYV7CT7G3YK573MVN9C&pf_rd_p=826008c2-23c9-4704-9075-a5b1da8b89d3&pf_rd_m=A1VBAL9TL5WCBF&pf_rd_s=merchandised-search-7&pf_rd_t=&pf_rd_i=1389401031&ie=UTF8&ref_=CLP_MH8_BSAffordable_1'"
   ]
  },
  {
   "cell_type": "code",
   "execution_count": 49,
   "id": "4fa7a157",
   "metadata": {},
   "outputs": [],
   "source": [
    "import pandas as pd\n",
    "import requests\n",
    "from bs4 import BeautifulSoup\n",
    "\n",
    "HEADERS = {\n",
    "    \"User-Agent\": \"Mozilla/5.0 (Macintosh; Intel Mac OSX 10_14_3) AppleWebKit/537.36 (KHTML, like Gecko)Chrome/71.0.3578.98 Safari/537.36\", \n",
    "    \"Accept\": \"text/html,application/xhtml+xml,application/xml;q=0.9,image/webp,image/apng,*/*;q=0.8\"\n",
    "}\n",
    "\n",
    "\n",
    "def get_response(url: str) -> BeautifulSoup:\n",
    "    '''A function to return a BeautifulSoup object\n",
    "    '''\n",
    "    res = requests.get(product_url, headers=HEADERS)\n",
    "    return BeautifulSoup(res.content, 'html.parser')\n",
    "\n",
    "\n",
    "def collect_data(soup: BeautifulSoup) -> pd.DataFrame():\n",
    "    # collect title\n",
    "    title = soup.select('#productTitle')[0].text.strip()\n",
    "\n",
    "    # Collect specifications\n",
    "    eles = soup.select('#feature-bullets li span')\n",
    "    info = [ele.text.strip() for ele in eles]\n",
    "\n",
    "    keys_raw = soup.select('#prodDetails > div > div:nth-child(1) > div:nth-child(1) > div')[0].select('th')\n",
    "    keys = [key.text.strip() for key in keys_raw]\n",
    "\n",
    "    values_raw = soup.select('#prodDetails > div > div:nth-child(1) > div:nth-child(1) > div')[0].select('td')\n",
    "    values = [values.text.strip() for values in values_raw]\n",
    "\n",
    "    other_keys = [x.text.strip() for x in soup.select('#productDetails_db_sections')[0].select('th')]\n",
    "    other_values = [x.text.strip() for x in soup.select('#productDetails_db_sections')[0].select('td')]\n",
    "\n",
    "    keys.extend(other_keys)\n",
    "    values.extend(other_values)\n",
    "\n",
    "    # Current Price\n",
    "    price = soup.select('#corePriceDisplay_desktop_feature_div > div.a-section.a-spacing-none.aok-align-center > span.a-price.aok-align-center.reinventPricePriceToPayMargin.priceToPay > span:nth-child(2) > span.a-price-whole')[0].text\n",
    "\n",
    "\n",
    "    reviews_url = 'https://amazon.in' + soup.select('#reviews-medley-footer > div.a-row.a-spacing-medium > a')[0]['href']\n",
    "\n",
    "\n",
    "    keys = ['product name', 'info', 'current price', 'reviews'] + keys\n",
    "    values= [title, '\\n'.join(info), price, reviews_url] + values\n",
    "\n",
    "    info_df = pd.DataFrame({\n",
    "        'keys': keys,\n",
    "        'values': values\n",
    "    })\n",
    "\n",
    "    return info_df"
   ]
  },
  {
   "cell_type": "code",
   "execution_count": 50,
   "id": "24eab6a9",
   "metadata": {},
   "outputs": [],
   "source": [
    "my_headers = {\"User-Agent\":\"Mozilla/5.0 (Macintosh; Intel Mac OSX 10_14_3) AppleWebKit/537.36 (KHTML, like Gecko)Chrome/71.0.3578.98 Safari/537.36\", \n",
    "          \"Accept\":\"text/html,application/xhtml+xml,application/xml;q=0.9,image/webp,image/apng,*/*;q=0.8\"}"
   ]
  },
  {
   "cell_type": "code",
   "execution_count": 51,
   "id": "718611fe",
   "metadata": {},
   "outputs": [
    {
     "data": {
      "text/plain": [
       "<Response [200]>"
      ]
     },
     "execution_count": 51,
     "metadata": {},
     "output_type": "execute_result"
    }
   ],
   "source": [
    "res = requests.get(product_url, headers=my_headers)\n",
    "res"
   ]
  },
  {
   "cell_type": "code",
   "execution_count": 52,
   "id": "fa150a78",
   "metadata": {},
   "outputs": [],
   "source": [
    "soup = get_response(product_url)"
   ]
  },
  {
   "cell_type": "code",
   "execution_count": 54,
   "id": "a1fc25db",
   "metadata": {},
   "outputs": [
    {
     "data": {
      "text/plain": [
       "[<p class=\"a-last\">Sorry, we just need to make sure you're not a robot. For best results, please make sure your browser is accepting cookies.</p>]"
      ]
     },
     "execution_count": 54,
     "metadata": {},
     "output_type": "execute_result"
    }
   ],
   "source": [
    "soup.select('p')"
   ]
  },
  {
   "cell_type": "code",
   "execution_count": 47,
   "id": "3f04ae54",
   "metadata": {},
   "outputs": [
    {
     "data": {
      "text/plain": [
       "[]"
      ]
     },
     "execution_count": 47,
     "metadata": {},
     "output_type": "execute_result"
    }
   ],
   "source": [
    "soup.select(\"#productDetails_techSpec_section_1\")"
   ]
  },
  {
   "cell_type": "code",
   "execution_count": 41,
   "id": "b51b5421",
   "metadata": {},
   "outputs": [
    {
     "ename": "IndexError",
     "evalue": "list index out of range",
     "output_type": "error",
     "traceback": [
      "\u001b[0;31m---------------------------------------------------------------------------\u001b[0m",
      "\u001b[0;31mIndexError\u001b[0m                                Traceback (most recent call last)",
      "Cell \u001b[0;32mIn[41], line 1\u001b[0m\n\u001b[0;32m----> 1\u001b[0m df \u001b[38;5;241m=\u001b[39m \u001b[43mcollect_data\u001b[49m\u001b[43m(\u001b[49m\u001b[43msoup\u001b[49m\u001b[43m)\u001b[49m\n\u001b[1;32m      2\u001b[0m df\n",
      "Cell \u001b[0;32mIn[35], line 26\u001b[0m, in \u001b[0;36mcollect_data\u001b[0;34m(soup)\u001b[0m\n\u001b[1;32m     23\u001b[0m eles \u001b[38;5;241m=\u001b[39m soup\u001b[38;5;241m.\u001b[39mselect(\u001b[38;5;124m'\u001b[39m\u001b[38;5;124m#feature-bullets li span\u001b[39m\u001b[38;5;124m'\u001b[39m)\n\u001b[1;32m     24\u001b[0m info \u001b[38;5;241m=\u001b[39m [ele\u001b[38;5;241m.\u001b[39mtext\u001b[38;5;241m.\u001b[39mstrip() \u001b[38;5;28;01mfor\u001b[39;00m ele \u001b[38;5;129;01min\u001b[39;00m eles]\n\u001b[0;32m---> 26\u001b[0m keys_raw \u001b[38;5;241m=\u001b[39m \u001b[43msoup\u001b[49m\u001b[38;5;241;43m.\u001b[39;49m\u001b[43mselect\u001b[49m\u001b[43m(\u001b[49m\u001b[38;5;124;43m'\u001b[39;49m\u001b[38;5;124;43m#prodDetails > div > div:nth-child(1) > div:nth-child(1) > div\u001b[39;49m\u001b[38;5;124;43m'\u001b[39;49m\u001b[43m)\u001b[49m\u001b[43m[\u001b[49m\u001b[38;5;241;43m0\u001b[39;49m\u001b[43m]\u001b[49m\u001b[38;5;241m.\u001b[39mselect(\u001b[38;5;124m'\u001b[39m\u001b[38;5;124mth\u001b[39m\u001b[38;5;124m'\u001b[39m)\n\u001b[1;32m     27\u001b[0m keys \u001b[38;5;241m=\u001b[39m [key\u001b[38;5;241m.\u001b[39mtext\u001b[38;5;241m.\u001b[39mstrip() \u001b[38;5;28;01mfor\u001b[39;00m key \u001b[38;5;129;01min\u001b[39;00m keys_raw]\n\u001b[1;32m     29\u001b[0m values_raw \u001b[38;5;241m=\u001b[39m soup\u001b[38;5;241m.\u001b[39mselect(\u001b[38;5;124m'\u001b[39m\u001b[38;5;124m#prodDetails > div > div:nth-child(1) > div:nth-child(1) > div\u001b[39m\u001b[38;5;124m'\u001b[39m)[\u001b[38;5;241m0\u001b[39m]\u001b[38;5;241m.\u001b[39mselect(\u001b[38;5;124m'\u001b[39m\u001b[38;5;124mtd\u001b[39m\u001b[38;5;124m'\u001b[39m)\n",
      "\u001b[0;31mIndexError\u001b[0m: list index out of range"
     ]
    }
   ],
   "source": [
    "df = collect_data(soup)\n",
    "df"
   ]
  },
  {
   "cell_type": "code",
   "execution_count": 8,
   "id": "b273c3ad",
   "metadata": {},
   "outputs": [
    {
     "name": "stdout",
     "output_type": "stream",
     "text": [
      "https://amazon.in/Airdopes-141-Playtime-Resistance-Bluetooth/product-reviews/B09N3ZNHTY/ref=cm_cr_dp_d_show_all_btm?ie=UTF8&reviewerType=all_reviews\n"
     ]
    }
   ],
   "source": [
    "print(df[df['keys'] == 'reviews']['values'].values[0])"
   ]
  },
  {
   "cell_type": "code",
   "execution_count": 9,
   "id": "76aac9ef",
   "metadata": {},
   "outputs": [],
   "source": [
    "#customer_review-R358NYWUQLR163"
   ]
  },
  {
   "cell_type": "code",
   "execution_count": 10,
   "id": "8165dbd2",
   "metadata": {},
   "outputs": [],
   "source": [
    "url = df[df['keys'] == 'reviews']['values'].values[0]"
   ]
  },
  {
   "cell_type": "code",
   "execution_count": 11,
   "id": "dddccafa",
   "metadata": {},
   "outputs": [
    {
     "data": {
      "text/plain": [
       "'https://amazon.in/Airdopes-141-Playtime-Resistance-Bluetooth/product-reviews/B09N3ZNHTY/ref=cm_cr_dp_d_show_all_btm?ie=UTF8&reviewerType=all_reviews'"
      ]
     },
     "execution_count": 11,
     "metadata": {},
     "output_type": "execute_result"
    }
   ],
   "source": [
    "url"
   ]
  },
  {
   "cell_type": "code",
   "execution_count": 12,
   "id": "dc66cb5f",
   "metadata": {},
   "outputs": [],
   "source": [
    "import requests\n",
    "from bs4 import BeautifulSoup\n",
    "import pandas as pd\n",
    "from urllib.parse import urlencode\n",
    "import csv"
   ]
  },
  {
   "cell_type": "code",
   "execution_count": 13,
   "id": "edd1183f",
   "metadata": {},
   "outputs": [],
   "source": [
    "urls = [\n",
    "    'https://amazon.in/Airdopes-141-Playtime-Resistance-Bluetooth/product-reviews/B09N3ZNHTY/ref=cm_cr_dp_d_show_all_btm?ie=UTF8&reviewerType=all_reviews'\n",
    "    'https://www.amazon.in/Airdopes-141-Playtime-Resistance-Bluetooth/product-reviews/B09N3ZNHTY/ref=cm_cr_getr_d_paging_btm_next_3?ie=UTF8&reviewerType=all_reviews&pageNumber=3'\n",
    "]"
   ]
  },
  {
   "cell_type": "code",
   "execution_count": 14,
   "id": "2f1cb78c",
   "metadata": {},
   "outputs": [
    {
     "name": "stderr",
     "output_type": "stream",
     "text": [
      "  1%|▍                                           | 1/99 [00:01<03:02,  1.86s/it]"
     ]
    },
    {
     "name": "stdout",
     "output_type": "stream",
     "text": [
      "10 10\n"
     ]
    },
    {
     "name": "stderr",
     "output_type": "stream",
     "text": [
      "\r",
      "  2%|▉                                           | 2/99 [00:03<02:53,  1.79s/it]"
     ]
    },
    {
     "name": "stdout",
     "output_type": "stream",
     "text": [
      "20 20\n"
     ]
    },
    {
     "name": "stderr",
     "output_type": "stream",
     "text": [
      "\r",
      "  3%|█▎                                          | 3/99 [00:05<02:49,  1.77s/it]"
     ]
    },
    {
     "name": "stdout",
     "output_type": "stream",
     "text": [
      "30 30\n"
     ]
    },
    {
     "name": "stderr",
     "output_type": "stream",
     "text": [
      "\r",
      "  4%|█▊                                          | 4/99 [00:07<02:47,  1.76s/it]"
     ]
    },
    {
     "name": "stdout",
     "output_type": "stream",
     "text": [
      "40 40\n"
     ]
    },
    {
     "name": "stderr",
     "output_type": "stream",
     "text": [
      "\r",
      "  5%|██▏                                         | 5/99 [00:08<02:45,  1.76s/it]"
     ]
    },
    {
     "name": "stdout",
     "output_type": "stream",
     "text": [
      "50 50\n"
     ]
    },
    {
     "name": "stderr",
     "output_type": "stream",
     "text": [
      "\r",
      "  6%|██▋                                         | 6/99 [00:10<02:42,  1.75s/it]"
     ]
    },
    {
     "name": "stdout",
     "output_type": "stream",
     "text": [
      "60 60\n"
     ]
    },
    {
     "name": "stderr",
     "output_type": "stream",
     "text": [
      "  6%|██▋                                         | 6/99 [00:11<03:04,  1.99s/it]\n"
     ]
    }
   ],
   "source": [
    "names = []\n",
    "reviews = []\n",
    "data_string = \"\"\n",
    "url = 'https://amazon.in/Airdopes-141-Playtime-Resistance-Bluetooth/product-reviews/B09N3ZNHTY/ref=cm_cr_dp_d_show_all_btm?ie=UTF8&reviewerType=all_reviews'\n",
    "\n",
    "from tqdm import tqdm\n",
    "\n",
    "for i in tqdm(range(1, 100)):\n",
    "    response = requests.get(url + f'?pageNumber={i}')\n",
    "    if response.status_code != 200:\n",
    "        break\n",
    "    soup = BeautifulSoup(response.text, 'html.parser')\n",
    "\n",
    "    for item in soup.findAll(\"a\", {\"data-hook\": \"review-title\"}):\n",
    "        data_string = data_string + item.get_text()\n",
    "        names.append(data_string)\n",
    "        data_string = \"\"  \n",
    "    \n",
    "    for item in soup.find_all(\"span\", {\"data-hook\": \"review-body\"}):\n",
    "        data_string = data_string + item.get_text()\n",
    "        reviews.append(data_string)\n",
    "        data_string = \"\"\n",
    "    \n",
    "    print(len(names), len(reviews))"
   ]
  },
  {
   "cell_type": "code",
   "execution_count": 15,
   "id": "fc178cb9",
   "metadata": {},
   "outputs": [
    {
     "name": "stdout",
     "output_type": "stream",
     "text": [
      "60 60\n"
     ]
    }
   ],
   "source": [
    "# Create the dictionary.\n",
    "reviews_dict = {'title': names, 'review': reviews}\n",
    "# Print the lengths of each list.  \n",
    "print(len(names), len(reviews))\n",
    "# 72 50"
   ]
  },
  {
   "cell_type": "code",
   "execution_count": 16,
   "id": "727bdbf8",
   "metadata": {},
   "outputs": [
    {
     "data": {
      "text/html": [
       "<div>\n",
       "<style scoped>\n",
       "    .dataframe tbody tr th:only-of-type {\n",
       "        vertical-align: middle;\n",
       "    }\n",
       "\n",
       "    .dataframe tbody tr th {\n",
       "        vertical-align: top;\n",
       "    }\n",
       "\n",
       "    .dataframe thead th {\n",
       "        text-align: right;\n",
       "    }\n",
       "</style>\n",
       "<table border=\"1\" class=\"dataframe\">\n",
       "  <thead>\n",
       "    <tr style=\"text-align: right;\">\n",
       "      <th></th>\n",
       "      <th>title</th>\n",
       "      <th>review</th>\n",
       "    </tr>\n",
       "  </thead>\n",
       "  <tbody>\n",
       "    <tr>\n",
       "      <th>0</th>\n",
       "      <td>\\ngreat product under low price range\\n</td>\n",
       "      <td>\\nPros:1. The level of volume it gets to, is j...</td>\n",
       "    </tr>\n",
       "    <tr>\n",
       "      <th>1</th>\n",
       "      <td>\\nBEST For music! Totally worth it Edit: Not w...</td>\n",
       "      <td>\\nPros:1. The level of volume it gets to, is j...</td>\n",
       "    </tr>\n",
       "    <tr>\n",
       "      <th>2</th>\n",
       "      <td>\\n1 year urage review\\n</td>\n",
       "      <td>\\nSimply...This the best TWS in this budget se...</td>\n",
       "    </tr>\n",
       "    <tr>\n",
       "      <th>3</th>\n",
       "      <td>\\nBeast in budget!\\n</td>\n",
       "      <td>\\nBought it in January,posting it in August. S...</td>\n",
       "    </tr>\n",
       "    <tr>\n",
       "      <th>4</th>\n",
       "      <td>\\nLove the product 👌 ❤️\\n</td>\n",
       "      <td>\\nI love the product the noise cancelation is ...</td>\n",
       "    </tr>\n",
       "  </tbody>\n",
       "</table>\n",
       "</div>"
      ],
      "text/plain": [
       "                                               title  \\\n",
       "0            \\ngreat product under low price range\\n   \n",
       "1  \\nBEST For music! Totally worth it Edit: Not w...   \n",
       "2                            \\n1 year urage review\\n   \n",
       "3                               \\nBeast in budget!\\n   \n",
       "4                          \\nLove the product 👌 ❤️\\n   \n",
       "\n",
       "                                              review  \n",
       "0  \\nPros:1. The level of volume it gets to, is j...  \n",
       "1  \\nPros:1. The level of volume it gets to, is j...  \n",
       "2  \\nSimply...This the best TWS in this budget se...  \n",
       "3  \\nBought it in January,posting it in August. S...  \n",
       "4  \\nI love the product the noise cancelation is ...  "
      ]
     },
     "execution_count": 16,
     "metadata": {},
     "output_type": "execute_result"
    }
   ],
   "source": [
    "# Create a new dataframe.\n",
    "df = pd.DataFrame.from_dict(reviews_dict)\n",
    "df.head()"
   ]
  }
 ],
 "metadata": {
  "kernelspec": {
   "display_name": "Python 3.9 (torch)",
   "language": "python",
   "name": "torch-env"
  },
  "language_info": {
   "codemirror_mode": {
    "name": "ipython",
    "version": 3
   },
   "file_extension": ".py",
   "mimetype": "text/x-python",
   "name": "python",
   "nbconvert_exporter": "python",
   "pygments_lexer": "ipython3",
   "version": "3.10.8"
  },
  "toc": {
   "base_numbering": 1,
   "nav_menu": {},
   "number_sections": true,
   "sideBar": true,
   "skip_h1_title": false,
   "title_cell": "Table of Contents",
   "title_sidebar": "Contents",
   "toc_cell": false,
   "toc_position": {},
   "toc_section_display": true,
   "toc_window_display": false
  }
 },
 "nbformat": 4,
 "nbformat_minor": 5
}
